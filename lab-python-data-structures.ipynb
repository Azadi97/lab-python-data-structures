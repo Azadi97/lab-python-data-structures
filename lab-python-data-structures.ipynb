{
 "cells": [
  {
   "cell_type": "markdown",
   "metadata": {
    "tags": []
   },
   "source": [
    "# Lab | Data Structures "
   ]
  },
  {
   "cell_type": "markdown",
   "metadata": {},
   "source": [
    "## Exercise: Managing Customer Orders\n",
    "\n",
    "As part of a business venture, you are starting an online store that sells various products. To ensure smooth operations, you need to develop a program that manages customer orders and inventory.\n",
    "\n",
    "Follow the steps below to complete the exercise:\n",
    "\n",
    "1. Define a list called `products` that contains the following items: \"t-shirt\", \"mug\", \"hat\", \"book\", \"keychain\".\n",
    "\n",
    "2. Create an empty dictionary called `inventory`.\n",
    "\n",
    "3. Ask the user to input the quantity of each product available in the inventory. Use the product names from the `products` list as keys in the `inventory` dictionary and assign the respective quantities as values.\n",
    "\n",
    "4. Create an empty set called `customer_orders`.\n",
    "\n",
    "5. Ask the user to input the name of three products that a customer wants to order (from those in the products list, meaning three products out of \"t-shirt\", \"mug\", \"hat\", \"book\" or \"keychain\". Add each product name to the `customer_orders` set.\n",
    "\n",
    "6. Print the products in the `customer_orders` set.\n",
    "\n",
    "7. Calculate the following order statistics:\n",
    "   - Total Products Ordered: The total number of products in the `customer_orders` set.\n",
    "   - Percentage of Products Ordered: The percentage of products ordered compared to the total available products.\n",
    "   \n",
    "   Store these statistics in a tuple called `order_status`.\n",
    "\n",
    "8. Print the order statistics using the following format:\n",
    "   ```\n",
    "   Order Statistics:\n",
    "   Total Products Ordered: <total_products_ordered>\n",
    "   Percentage of Products Ordered: <percentage_ordered>% \n",
    "   ```\n",
    "\n",
    "9. Update the inventory by subtracting 1 from the quantity of each product. Modify the `inventory` dictionary accordingly.\n",
    "\n",
    "10. Print the updated inventory, displaying the quantity of each product on separate lines.\n",
    "\n",
    "Solve the exercise by implementing the steps using the Python concepts of lists, dictionaries, sets, and basic input/output operations. "
   ]
  },
  {
   "cell_type": "code",
   "execution_count": 4,
   "metadata": {},
   "outputs": [
    {
     "name": "stdout",
     "output_type": "stream",
     "text": [
      "Input the quantity for t-shirt:1\n",
      "Input the quantity for mug:2\n",
      "Input the quantity for hat:3\n",
      "Input the quantity for book:4\n",
      "Input the quantity for keychain:5\n",
      "{'t-shirt': '1', 'mug': '2', 'hat': '3', 'book': '4', 'keychain': '5'}\n"
     ]
    }
   ],
   "source": [
    "products = ['t-shirt', 'mug', 'hat', 'book', 'keychain']\n",
    "inventory = {}\n",
    "\n",
    "for i in products:\n",
    "    pr_count = input(f\"Input the quantity for {i}:\")\n",
    "    inventory[i] = pr_count\n",
    "                    \n",
    "print(inventory)"
   ]
  },
  {
   "cell_type": "code",
   "execution_count": 9,
   "metadata": {},
   "outputs": [
    {
     "name": "stdout",
     "output_type": "stream",
     "text": [
      "name three products that customer wants set() :mug\n",
      "name three products that customer wants {'mug'} :book\n",
      "name three products that customer wants {'mug', 'book'} :keychain\n",
      "{'keychain', 'mug', 'book'}\n"
     ]
    }
   ],
   "source": [
    "customer_orders = set()\n",
    "\n",
    "for i in range(3):\n",
    "    cus_order = input(f\"name three products that customer wants {customer_orders} :\" )\n",
    "    customer_orders.add(cus_order)\n",
    "print(customer_orders)"
   ]
  },
  {
   "cell_type": "code",
   "execution_count": 19,
   "metadata": {},
   "outputs": [
    {
     "name": "stdout",
     "output_type": "stream",
     "text": [
      "percentage of ordered product count to total available products. 60.0 %\n"
     ]
    },
    {
     "data": {
      "text/plain": [
       "(3, 5, 60.0)"
      ]
     },
     "execution_count": 19,
     "metadata": {},
     "output_type": "execute_result"
    }
   ],
   "source": [
    "#Calculate the following order statistics:\n",
    "\n",
    "# * Total Products Ordered: The total number of products in the customer_orders set.\n",
    "total_products_ordered = len(customer_orders)\n",
    "total_products_ordered\n",
    "\n",
    "# * Percentage of Products Ordered: The percentage of products ordered compared to the total available products.\n",
    "total_available = len(products)\n",
    "total_available\n",
    "\n",
    "percentage_ordered = 3 * 100 / 5\n",
    "print(f\"percentage of ordered product count to total available products. {percentage_ordered} %\")\n",
    "\n",
    "tuple_products = (total_products, total_available, percentage_ordered)\n",
    "tuple_products"
   ]
  },
  {
   "cell_type": "code",
   "execution_count": 41,
   "metadata": {},
   "outputs": [
    {
     "name": "stdout",
     "output_type": "stream",
     "text": [
      "Order Statistics: \n",
      "Total Products Ordered 3 \n",
      "Percentage of Products Ordered: 60.0 %\n"
     ]
    }
   ],
   "source": [
    "# Print the order statistics using the following format:\n",
    "\n",
    "# Order Statistics:\n",
    "# Total Products Ordered: <total_products_ordered>\n",
    "# Percentage of Products Ordered: <percentage_ordered>% \n",
    "    \n",
    "print(f\"Order Statistics: \\nTotal Products Ordered {total_products_ordered} \\nPercentage of Products Ordered: {percentage_ordered} %\")    \n",
    "    "
   ]
  },
  {
   "cell_type": "code",
   "execution_count": 25,
   "metadata": {},
   "outputs": [
    {
     "data": {
      "text/plain": [
       "{'t-shirt': 0, 'mug': 1, 'hat': 2, 'book': 3, 'keychain': 4}"
      ]
     },
     "execution_count": 25,
     "metadata": {},
     "output_type": "execute_result"
    }
   ],
   "source": [
    "# 9: Update the inventory by subtracting 1 from the quantity of each product. Modify the inventory dictionary accordingly.\n",
    "\n",
    "updated_inventory = {}\n",
    "for i, j in inventory.items():\n",
    "    deducted_quantity = int(inventory[i]) - 1\n",
    "    \n",
    "    updated_inventory[i] = deducted_quantity\n",
    "updated_inventory"
   ]
  },
  {
   "cell_type": "code",
   "execution_count": 39,
   "metadata": {},
   "outputs": [
    {
     "name": "stdout",
     "output_type": "stream",
     "text": [
      "t-shirt : 0\n",
      "mug : 1\n",
      "hat : 2\n",
      "book : 3\n",
      "keychain : 4\n"
     ]
    }
   ],
   "source": [
    "# 10: Print the updated inventory, displaying the quantity of each product on separate lines.\n",
    "\n",
    "for i,j in updated_inventory.items():\n",
    "    print(f\"{i} : {j}\")\n",
    "    \n",
    "\n"
   ]
  },
  {
   "cell_type": "code",
   "execution_count": null,
   "metadata": {},
   "outputs": [],
   "source": []
  },
  {
   "cell_type": "code",
   "execution_count": null,
   "metadata": {},
   "outputs": [],
   "source": []
  }
 ],
 "metadata": {
  "kernelspec": {
   "display_name": "Python 3 (ipykernel)",
   "language": "python",
   "name": "python3"
  },
  "language_info": {
   "codemirror_mode": {
    "name": "ipython",
    "version": 3
   },
   "file_extension": ".py",
   "mimetype": "text/x-python",
   "name": "python",
   "nbconvert_exporter": "python",
   "pygments_lexer": "ipython3",
   "version": "3.9.7"
  }
 },
 "nbformat": 4,
 "nbformat_minor": 4
}
